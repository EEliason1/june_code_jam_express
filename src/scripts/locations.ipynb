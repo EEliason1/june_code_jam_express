{
 "cells": [
  {
   "cell_type": "markdown",
   "metadata": {},
   "source": [
    "# Location Dataframe\n",
    "\n",
    "Part 1 - An inital dataframe with city names, longitude, latitudes and distances between each city.\n",
    "\n",
    "Part 2 - A dummy model that randomly picks cities and displayed on a map. A second optimized model that chooses the best route possible.\n",
    "\n",
    "# Part 1\n",
    "\n",
    "## 1.1 Import Packages"
   ]
  },
  {
   "cell_type": "code",
   "execution_count": 1,
   "metadata": {},
   "outputs": [],
   "source": [
    "# import standard packages\n",
    "import numpy as np\n",
    "import pandas as pd\n",
    "import random\n",
    "\n",
    "# import visualization packages\n",
    "import plotly.express as px\n",
    "import plotly.graph_objects as go\n",
    "\n",
    "# import distance calculation packages\n",
    "from geopy.distance import geodesic\n",
    "\n",
    "# import model packages\n",
    "from python_tsp.exact import solve_tsp_dynamic_programming\n",
    "\n",
    "# to read csv files\n",
    "#from google.colab import files\n",
    "\n",
    "# import sys to get input from app\n",
    "import sys"
   ]
  },
  {
   "cell_type": "markdown",
   "metadata": {},
   "source": [
    "## 1.2 Create Dataframe"
   ]
  },
  {
   "cell_type": "code",
   "execution_count": 2,
   "metadata": {},
   "outputs": [],
   "source": [
    "# upload csv file to google collab\n",
    "# uploaded = files.upload()"
   ]
  },
  {
   "cell_type": "code",
   "execution_count": 3,
   "metadata": {},
   "outputs": [],
   "source": [
    "# download csv of cities\n",
    "df = pd.read_csv('uscities.csv')"
   ]
  },
  {
   "cell_type": "code",
   "execution_count": 4,
   "metadata": {},
   "outputs": [],
   "source": [
    "# create column names to keep\n",
    "columns = ['city', 'state_id', 'lng', 'lat']\n",
    "\n",
    "# select columns\n",
    "df = df[columns]\n",
    "\n",
    "# re-order columns\n",
    "df = df[['city', 'state_id', 'lng', 'lat']]"
   ]
  },
  {
   "cell_type": "code",
   "execution_count": 5,
   "metadata": {},
   "outputs": [],
   "source": [
    "# save list for cities\n",
    "cities_states = {'Denver':'CO', 'Tampa':'FL', 'Atlanta':'GA', 'Seattle':'WA', 'New York':'NY', 'Los Angeles':'CA', 'Chicago':'IL', 'Dallas':'TX'}\n",
    "\n",
    "# create a list of indexes to keep\n",
    "keep = []\n",
    "\n",
    "# loop through cities and states, keeping those that match\n",
    "for city, state in cities_states.items():\n",
    "    try:\n",
    "        keep.append(df[(df['city'] == city) & (df['state_id'] == state)].index[0])\n",
    "    except:\n",
    "        print(f'{city} not found in the dataset')\n",
    "\n",
    "# create a new dataframe with only the cities we want\n",
    "df = df.loc[keep]\n",
    "\n",
    "# Reset the index\n",
    "df.reset_index(drop=True, inplace=True)"
   ]
  },
  {
   "cell_type": "code",
   "execution_count": 6,
   "metadata": {},
   "outputs": [
    {
     "data": {
      "text/html": [
       "<div>\n",
       "<style scoped>\n",
       "    .dataframe tbody tr th:only-of-type {\n",
       "        vertical-align: middle;\n",
       "    }\n",
       "\n",
       "    .dataframe tbody tr th {\n",
       "        vertical-align: top;\n",
       "    }\n",
       "\n",
       "    .dataframe thead th {\n",
       "        text-align: right;\n",
       "    }\n",
       "</style>\n",
       "<table border=\"1\" class=\"dataframe\">\n",
       "  <thead>\n",
       "    <tr style=\"text-align: right;\">\n",
       "      <th></th>\n",
       "      <th>city</th>\n",
       "      <th>state_id</th>\n",
       "      <th>lng</th>\n",
       "      <th>lat</th>\n",
       "    </tr>\n",
       "  </thead>\n",
       "  <tbody>\n",
       "    <tr>\n",
       "      <th>0</th>\n",
       "      <td>Denver</td>\n",
       "      <td>CO</td>\n",
       "      <td>-104.8758</td>\n",
       "      <td>39.7620</td>\n",
       "    </tr>\n",
       "    <tr>\n",
       "      <th>1</th>\n",
       "      <td>Tampa</td>\n",
       "      <td>FL</td>\n",
       "      <td>-82.4447</td>\n",
       "      <td>27.9945</td>\n",
       "    </tr>\n",
       "    <tr>\n",
       "      <th>2</th>\n",
       "      <td>Atlanta</td>\n",
       "      <td>GA</td>\n",
       "      <td>-84.4220</td>\n",
       "      <td>33.7628</td>\n",
       "    </tr>\n",
       "    <tr>\n",
       "      <th>3</th>\n",
       "      <td>Seattle</td>\n",
       "      <td>WA</td>\n",
       "      <td>-122.3244</td>\n",
       "      <td>47.6211</td>\n",
       "    </tr>\n",
       "    <tr>\n",
       "      <th>4</th>\n",
       "      <td>New York</td>\n",
       "      <td>NY</td>\n",
       "      <td>-73.9249</td>\n",
       "      <td>40.6943</td>\n",
       "    </tr>\n",
       "    <tr>\n",
       "      <th>5</th>\n",
       "      <td>Los Angeles</td>\n",
       "      <td>CA</td>\n",
       "      <td>-118.4068</td>\n",
       "      <td>34.1141</td>\n",
       "    </tr>\n",
       "    <tr>\n",
       "      <th>6</th>\n",
       "      <td>Chicago</td>\n",
       "      <td>IL</td>\n",
       "      <td>-87.6866</td>\n",
       "      <td>41.8375</td>\n",
       "    </tr>\n",
       "    <tr>\n",
       "      <th>7</th>\n",
       "      <td>Dallas</td>\n",
       "      <td>TX</td>\n",
       "      <td>-96.7667</td>\n",
       "      <td>32.7935</td>\n",
       "    </tr>\n",
       "  </tbody>\n",
       "</table>\n",
       "</div>"
      ],
      "text/plain": [
       "          city state_id       lng      lat\n",
       "0       Denver       CO -104.8758  39.7620\n",
       "1        Tampa       FL  -82.4447  27.9945\n",
       "2      Atlanta       GA  -84.4220  33.7628\n",
       "3      Seattle       WA -122.3244  47.6211\n",
       "4     New York       NY  -73.9249  40.6943\n",
       "5  Los Angeles       CA -118.4068  34.1141\n",
       "6      Chicago       IL  -87.6866  41.8375\n",
       "7       Dallas       TX  -96.7667  32.7935"
      ]
     },
     "execution_count": 6,
     "metadata": {},
     "output_type": "execute_result"
    }
   ],
   "source": [
    "# Show df\n",
    "df"
   ]
  },
  {
   "cell_type": "code",
   "execution_count": 7,
   "metadata": {},
   "outputs": [],
   "source": [
    "## 1.3 Find distances between cities"
   ]
  },
  {
   "cell_type": "code",
   "execution_count": 8,
   "metadata": {},
   "outputs": [
    {
     "data": {
      "text/html": [
       "<div>\n",
       "<style scoped>\n",
       "    .dataframe tbody tr th:only-of-type {\n",
       "        vertical-align: middle;\n",
       "    }\n",
       "\n",
       "    .dataframe tbody tr th {\n",
       "        vertical-align: top;\n",
       "    }\n",
       "\n",
       "    .dataframe thead th {\n",
       "        text-align: right;\n",
       "    }\n",
       "</style>\n",
       "<table border=\"1\" class=\"dataframe\">\n",
       "  <thead>\n",
       "    <tr style=\"text-align: right;\">\n",
       "      <th></th>\n",
       "      <th>city</th>\n",
       "      <th>state_id</th>\n",
       "      <th>lng</th>\n",
       "      <th>lat</th>\n",
       "      <th>Denver</th>\n",
       "      <th>Tampa</th>\n",
       "      <th>Atlanta</th>\n",
       "      <th>Seattle</th>\n",
       "      <th>New York</th>\n",
       "      <th>Los Angeles</th>\n",
       "      <th>Chicago</th>\n",
       "      <th>Dallas</th>\n",
       "    </tr>\n",
       "  </thead>\n",
       "  <tbody>\n",
       "    <tr>\n",
       "      <th>0</th>\n",
       "      <td>Denver</td>\n",
       "      <td>CO</td>\n",
       "      <td>-104.8758</td>\n",
       "      <td>39.7620</td>\n",
       "      <td>0.000000</td>\n",
       "      <td>1516.621897</td>\n",
       "      <td>1204.493538</td>\n",
       "      <td>1025.238506</td>\n",
       "      <td>1629.597074</td>\n",
       "      <td>842.916762</td>\n",
       "      <td>911.068512</td>\n",
       "      <td>659.567308</td>\n",
       "    </tr>\n",
       "    <tr>\n",
       "      <th>1</th>\n",
       "      <td>Tampa</td>\n",
       "      <td>FL</td>\n",
       "      <td>-82.4447</td>\n",
       "      <td>27.9945</td>\n",
       "      <td>1516.621897</td>\n",
       "      <td>0.000000</td>\n",
       "      <td>414.353429</td>\n",
       "      <td>2527.476913</td>\n",
       "      <td>1000.540253</td>\n",
       "      <td>2162.677572</td>\n",
       "      <td>999.072454</td>\n",
       "      <td>915.903241</td>\n",
       "    </tr>\n",
       "    <tr>\n",
       "      <th>2</th>\n",
       "      <td>Atlanta</td>\n",
       "      <td>GA</td>\n",
       "      <td>-84.4220</td>\n",
       "      <td>33.7628</td>\n",
       "      <td>1204.493538</td>\n",
       "      <td>414.353429</td>\n",
       "      <td>0.000000</td>\n",
       "      <td>2179.963411</td>\n",
       "      <td>749.724729</td>\n",
       "      <td>1943.325938</td>\n",
       "      <td>584.720305</td>\n",
       "      <td>717.268693</td>\n",
       "    </tr>\n",
       "    <tr>\n",
       "      <th>3</th>\n",
       "      <td>Seattle</td>\n",
       "      <td>WA</td>\n",
       "      <td>-122.3244</td>\n",
       "      <td>47.6211</td>\n",
       "      <td>1025.238506</td>\n",
       "      <td>2527.476913</td>\n",
       "      <td>2179.963411</td>\n",
       "      <td>0.000000</td>\n",
       "      <td>2412.074636</td>\n",
       "      <td>954.033188</td>\n",
       "      <td>1735.611426</td>\n",
       "      <td>1682.139750</td>\n",
       "    </tr>\n",
       "    <tr>\n",
       "      <th>4</th>\n",
       "      <td>New York</td>\n",
       "      <td>NY</td>\n",
       "      <td>-73.9249</td>\n",
       "      <td>40.6943</td>\n",
       "      <td>1629.597074</td>\n",
       "      <td>1000.540253</td>\n",
       "      <td>749.724729</td>\n",
       "      <td>2412.074636</td>\n",
       "      <td>0.000000</td>\n",
       "      <td>2462.095847</td>\n",
       "      <td>720.094925</td>\n",
       "      <td>1374.440075</td>\n",
       "    </tr>\n",
       "    <tr>\n",
       "      <th>5</th>\n",
       "      <td>Los Angeles</td>\n",
       "      <td>CA</td>\n",
       "      <td>-118.4068</td>\n",
       "      <td>34.1141</td>\n",
       "      <td>842.916762</td>\n",
       "      <td>2162.677572</td>\n",
       "      <td>1943.325938</td>\n",
       "      <td>954.033188</td>\n",
       "      <td>2462.095847</td>\n",
       "      <td>0.000000</td>\n",
       "      <td>1748.891824</td>\n",
       "      <td>1251.120559</td>\n",
       "    </tr>\n",
       "    <tr>\n",
       "      <th>6</th>\n",
       "      <td>Chicago</td>\n",
       "      <td>IL</td>\n",
       "      <td>-87.6866</td>\n",
       "      <td>41.8375</td>\n",
       "      <td>911.068512</td>\n",
       "      <td>999.072454</td>\n",
       "      <td>584.720305</td>\n",
       "      <td>1735.611426</td>\n",
       "      <td>720.094925</td>\n",
       "      <td>1748.891824</td>\n",
       "      <td>0.000000</td>\n",
       "      <td>798.440088</td>\n",
       "    </tr>\n",
       "    <tr>\n",
       "      <th>7</th>\n",
       "      <td>Dallas</td>\n",
       "      <td>TX</td>\n",
       "      <td>-96.7667</td>\n",
       "      <td>32.7935</td>\n",
       "      <td>659.567308</td>\n",
       "      <td>915.903241</td>\n",
       "      <td>717.268693</td>\n",
       "      <td>1682.139750</td>\n",
       "      <td>1374.440075</td>\n",
       "      <td>1251.120559</td>\n",
       "      <td>798.440088</td>\n",
       "      <td>0.000000</td>\n",
       "    </tr>\n",
       "  </tbody>\n",
       "</table>\n",
       "</div>"
      ],
      "text/plain": [
       "          city state_id       lng      lat       Denver        Tampa  \\\n",
       "0       Denver       CO -104.8758  39.7620     0.000000  1516.621897   \n",
       "1        Tampa       FL  -82.4447  27.9945  1516.621897     0.000000   \n",
       "2      Atlanta       GA  -84.4220  33.7628  1204.493538   414.353429   \n",
       "3      Seattle       WA -122.3244  47.6211  1025.238506  2527.476913   \n",
       "4     New York       NY  -73.9249  40.6943  1629.597074  1000.540253   \n",
       "5  Los Angeles       CA -118.4068  34.1141   842.916762  2162.677572   \n",
       "6      Chicago       IL  -87.6866  41.8375   911.068512   999.072454   \n",
       "7       Dallas       TX  -96.7667  32.7935   659.567308   915.903241   \n",
       "\n",
       "       Atlanta      Seattle     New York  Los Angeles      Chicago  \\\n",
       "0  1204.493538  1025.238506  1629.597074   842.916762   911.068512   \n",
       "1   414.353429  2527.476913  1000.540253  2162.677572   999.072454   \n",
       "2     0.000000  2179.963411   749.724729  1943.325938   584.720305   \n",
       "3  2179.963411     0.000000  2412.074636   954.033188  1735.611426   \n",
       "4   749.724729  2412.074636     0.000000  2462.095847   720.094925   \n",
       "5  1943.325938   954.033188  2462.095847     0.000000  1748.891824   \n",
       "6   584.720305  1735.611426   720.094925  1748.891824     0.000000   \n",
       "7   717.268693  1682.139750  1374.440075  1251.120559   798.440088   \n",
       "\n",
       "        Dallas  \n",
       "0   659.567308  \n",
       "1   915.903241  \n",
       "2   717.268693  \n",
       "3  1682.139750  \n",
       "4  1374.440075  \n",
       "5  1251.120559  \n",
       "6   798.440088  \n",
       "7     0.000000  "
      ]
     },
     "execution_count": 8,
     "metadata": {},
     "output_type": "execute_result"
    }
   ],
   "source": [
    "# Create new columns to store the distances\n",
    "for city in cities_states.keys():\n",
    "    df[city] = np.nan\n",
    "\n",
    "# Loop through each city\n",
    "for city in cities_states.keys():\n",
    "    # Get the coordinates of the current city\n",
    "    city_coords = (df[df['city'] == city]['lat'].values[0], df[df['city'] == city]['lng'].values[0])\n",
    "\n",
    "    # Loop through each row in the dataframe\n",
    "    for i in range(len(df)):\n",
    "        # Calculate the distance between the city and the row\n",
    "        row_coords = (df['lat'][i], df['lng'][i])\n",
    "        distance = geodesic(row_coords, city_coords).miles\n",
    "\n",
    "        # Add the distance to the dataframe\n",
    "        df.at[i, city] = distance\n",
    "\n",
    "# Show df\n",
    "df"
   ]
  },
  {
   "cell_type": "code",
   "execution_count": 9,
   "metadata": {},
   "outputs": [],
   "source": [
    "# Part 2\n",
    "\n",
    "## 2.1 Create a route that randomly picks cities and display on a map."
   ]
  },
  {
   "cell_type": "code",
   "execution_count": 10,
   "metadata": {},
   "outputs": [
    {
     "data": {
      "text/plain": [
       "['Atlanta',\n",
       " 'New York',\n",
       " 'Los Angeles',\n",
       " 'Dallas',\n",
       " 'Chicago',\n",
       " 'Tampa',\n",
       " 'Seattle',\n",
       " 'Denver']"
      ]
     },
     "execution_count": 10,
     "metadata": {},
     "output_type": "execute_result"
    }
   ],
   "source": [
    "# list of all cities\n",
    "cities = list(cities_states.keys())\n",
    "\n",
    "# save route as list\n",
    "random_route = []\n",
    "\n",
    "# loop cities and randomly\n",
    "while cities:\n",
    "    current_city = random.choice(cities)\n",
    "    random_route.append(current_city)\n",
    "    cities.remove(current_city)\n",
    "\n",
    "# show route\n",
    "random_route\n"
   ]
  },
  {
   "cell_type": "code",
   "execution_count": 11,
   "metadata": {},
   "outputs": [
    {
     "data": {
      "text/plain": [
       "9813.17"
      ]
     },
     "execution_count": 11,
     "metadata": {},
     "output_type": "execute_result"
    }
   ],
   "source": [
    "# 2.2 Find total distance of random route\n",
    "\n",
    "# calculate distance_random of route\n",
    "distance_random = 0\n",
    "\n",
    "# loop through each city in the route\n",
    "for i in range(len(random_route) - 1):\n",
    "    # calculate the distance_random between the two cities\n",
    "    distance_random += df[random_route[i]][df['city'] == random_route[i + 1]].values[0]\n",
    "    distance_random = round(distance_random, 2)\n",
    "\n",
    "distance_random"
   ]
  },
  {
   "cell_type": "code",
   "execution_count": 12,
   "metadata": {},
   "outputs": [],
   "source": [
    "# Set colors\n",
    "ocean = '#CBF3F0'\n",
    "lake = '#CBF3F0'\n",
    "river = '#CBF3F0'\n",
    "land = '#FFBF69'\n",
    "text_cities = 'Black'\n",
    "text_distance = '#FFFFFF'\n",
    "lines = 'black'\n",
    "marker = '#FF9F1C'\n",
    "mode = 'plotly_dark' # 'plotly', 'plotly_white', 'plotly_dark', 'ggplot2', 'seaborn', 'simple_white', 'none'\n",
    "\n",
    "# Set borders\n",
    "width = 1000\n",
    "height = 800\n",
    "\n",
    "# Text positions for labels\n",
    "text_positions = {\n",
    "    'Chicago': 'bottom right',\n",
    "    'Los Angeles': 'bottom left',\n",
    "    'Dallas': 'top right',\n",
    "    'Atlanta': 'bottom center',\n",
    "    'Denver': 'bottom left',\n",
    "    'Tampa': 'bottom right',\n",
    "    'Seattle': 'top left',\n",
    "    'New York': 'top left'\n",
    "}"
   ]
  },
  {
   "cell_type": "code",
   "execution_count": 13,
   "metadata": {},
   "outputs": [
    {
     "data": {
      "application/vnd.plotly.v1+json": {
       "config": {
        "plotlyServerURL": "https://plot.ly"
       },
       "data": [
        {
         "lat": [
          33.7628
         ],
         "lon": [
          -84.422
         ],
         "marker": {
          "color": "#FF9F1C",
          "size": 10
         },
         "mode": "markers+text",
         "name": "Atlanta",
         "showlegend": false,
         "text": "Atlanta",
         "textfont": {
          "color": "Black"
         },
         "textposition": "bottom center",
         "type": "scattergeo"
        },
        {
         "lat": [
          40.6943
         ],
         "lon": [
          -73.9249
         ],
         "marker": {
          "color": "#FF9F1C",
          "size": 10
         },
         "mode": "markers+text",
         "name": "New York",
         "showlegend": false,
         "text": "New York",
         "textfont": {
          "color": "Black"
         },
         "textposition": "top left",
         "type": "scattergeo"
        },
        {
         "lat": [
          34.1141
         ],
         "lon": [
          -118.4068
         ],
         "marker": {
          "color": "#FF9F1C",
          "size": 10
         },
         "mode": "markers+text",
         "name": "Los Angeles",
         "showlegend": false,
         "text": "Los Angeles",
         "textfont": {
          "color": "Black"
         },
         "textposition": "bottom left",
         "type": "scattergeo"
        },
        {
         "lat": [
          32.7935
         ],
         "lon": [
          -96.7667
         ],
         "marker": {
          "color": "#FF9F1C",
          "size": 10
         },
         "mode": "markers+text",
         "name": "Dallas",
         "showlegend": false,
         "text": "Dallas",
         "textfont": {
          "color": "Black"
         },
         "textposition": "top right",
         "type": "scattergeo"
        },
        {
         "lat": [
          41.8375
         ],
         "lon": [
          -87.6866
         ],
         "marker": {
          "color": "#FF9F1C",
          "size": 10
         },
         "mode": "markers+text",
         "name": "Chicago",
         "showlegend": false,
         "text": "Chicago",
         "textfont": {
          "color": "Black"
         },
         "textposition": "bottom right",
         "type": "scattergeo"
        },
        {
         "lat": [
          27.9945
         ],
         "lon": [
          -82.4447
         ],
         "marker": {
          "color": "#FF9F1C",
          "size": 10
         },
         "mode": "markers+text",
         "name": "Tampa",
         "showlegend": false,
         "text": "Tampa",
         "textfont": {
          "color": "Black"
         },
         "textposition": "bottom right",
         "type": "scattergeo"
        },
        {
         "lat": [
          47.6211
         ],
         "lon": [
          -122.3244
         ],
         "marker": {
          "color": "#FF9F1C",
          "size": 10
         },
         "mode": "markers+text",
         "name": "Seattle",
         "showlegend": false,
         "text": "Seattle",
         "textfont": {
          "color": "Black"
         },
         "textposition": "top left",
         "type": "scattergeo"
        },
        {
         "lat": [
          39.762
         ],
         "lon": [
          -104.8758
         ],
         "marker": {
          "color": "#FF9F1C",
          "size": 10
         },
         "mode": "markers+text",
         "name": "Denver",
         "showlegend": false,
         "text": "Denver",
         "textfont": {
          "color": "Black"
         },
         "textposition": "bottom left",
         "type": "scattergeo"
        },
        {
         "lat": [
          33.7628,
          40.6943
         ],
         "line": {
          "color": "#636EFA",
          "width": 2
         },
         "lon": [
          -84.422,
          -73.9249
         ],
         "mode": "lines",
         "name": "Leg 1",
         "showlegend": true,
         "type": "scattergeo"
        },
        {
         "lat": [
          40.6943,
          34.1141
         ],
         "line": {
          "color": "#EF553B",
          "width": 2
         },
         "lon": [
          -73.9249,
          -118.4068
         ],
         "mode": "lines",
         "name": "Leg 2",
         "showlegend": true,
         "type": "scattergeo"
        },
        {
         "lat": [
          34.1141,
          32.7935
         ],
         "line": {
          "color": "#00CC96",
          "width": 2
         },
         "lon": [
          -118.4068,
          -96.7667
         ],
         "mode": "lines",
         "name": "Leg 3",
         "showlegend": true,
         "type": "scattergeo"
        },
        {
         "lat": [
          32.7935,
          41.8375
         ],
         "line": {
          "color": "#AB63FA",
          "width": 2
         },
         "lon": [
          -96.7667,
          -87.6866
         ],
         "mode": "lines",
         "name": "Leg 4",
         "showlegend": true,
         "type": "scattergeo"
        },
        {
         "lat": [
          41.8375,
          27.9945
         ],
         "line": {
          "color": "#FFA15A",
          "width": 2
         },
         "lon": [
          -87.6866,
          -82.4447
         ],
         "mode": "lines",
         "name": "Leg 5",
         "showlegend": true,
         "type": "scattergeo"
        },
        {
         "lat": [
          27.9945,
          47.6211
         ],
         "line": {
          "color": "#19D3F3",
          "width": 2
         },
         "lon": [
          -82.4447,
          -122.3244
         ],
         "mode": "lines",
         "name": "Leg 6",
         "showlegend": true,
         "type": "scattergeo"
        },
        {
         "lat": [
          47.6211,
          39.762
         ],
         "line": {
          "color": "#FF6692",
          "width": 2
         },
         "lon": [
          -122.3244,
          -104.8758
         ],
         "mode": "lines",
         "name": "Leg 7",
         "showlegend": true,
         "type": "scattergeo"
        }
       ],
       "layout": {
        "annotations": [
         {
          "font": {
           "color": "#FFFFFF",
           "size": 20
          },
          "showarrow": false,
          "text": "Total Distance: 9813.17 miles",
          "x": 0.5,
          "xref": "paper",
          "y": 0.1,
          "yref": "paper"
         }
        ],
        "dragmode": false,
        "font": {
         "color": "white"
        },
        "geo": {
         "countrywidth": 0.5,
         "lakecolor": "#CBF3F0",
         "landcolor": "#FFBF69",
         "lataxis": {
          "range": [
           25,
           50
          ]
         },
         "lonaxis": {
          "range": [
           -125,
           -65
          ]
         },
         "oceancolor": "#CBF3F0",
         "rivercolor": "#CBF3F0",
         "scope": "north america",
         "showcountries": true,
         "showlakes": true,
         "showland": true,
         "showocean": true,
         "showrivers": true,
         "showsubunits": true,
         "subunitwidth": 0.5
        },
        "height": 800,
        "legend": {
         "y": 0.5,
         "yanchor": "middle"
        },
        "margin": {
         "b": 10,
         "l": 10,
         "r": 10,
         "t": 40
        },
        "paper_bgcolor": "rgba(0, 0, 0, 0)",
        "plot_bgcolor": "rgba(0, 0, 0, 0)",
        "showlegend": true,
        "template": {
         "data": {
          "bar": [
           {
            "error_x": {
             "color": "#2a3f5f"
            },
            "error_y": {
             "color": "#2a3f5f"
            },
            "marker": {
             "line": {
              "color": "#E5ECF6",
              "width": 0.5
             },
             "pattern": {
              "fillmode": "overlay",
              "size": 10,
              "solidity": 0.2
             }
            },
            "type": "bar"
           }
          ],
          "barpolar": [
           {
            "marker": {
             "line": {
              "color": "#E5ECF6",
              "width": 0.5
             },
             "pattern": {
              "fillmode": "overlay",
              "size": 10,
              "solidity": 0.2
             }
            },
            "type": "barpolar"
           }
          ],
          "carpet": [
           {
            "aaxis": {
             "endlinecolor": "#2a3f5f",
             "gridcolor": "white",
             "linecolor": "white",
             "minorgridcolor": "white",
             "startlinecolor": "#2a3f5f"
            },
            "baxis": {
             "endlinecolor": "#2a3f5f",
             "gridcolor": "white",
             "linecolor": "white",
             "minorgridcolor": "white",
             "startlinecolor": "#2a3f5f"
            },
            "type": "carpet"
           }
          ],
          "choropleth": [
           {
            "colorbar": {
             "outlinewidth": 0,
             "ticks": ""
            },
            "type": "choropleth"
           }
          ],
          "contour": [
           {
            "colorbar": {
             "outlinewidth": 0,
             "ticks": ""
            },
            "colorscale": [
             [
              0,
              "#0d0887"
             ],
             [
              0.1111111111111111,
              "#46039f"
             ],
             [
              0.2222222222222222,
              "#7201a8"
             ],
             [
              0.3333333333333333,
              "#9c179e"
             ],
             [
              0.4444444444444444,
              "#bd3786"
             ],
             [
              0.5555555555555556,
              "#d8576b"
             ],
             [
              0.6666666666666666,
              "#ed7953"
             ],
             [
              0.7777777777777778,
              "#fb9f3a"
             ],
             [
              0.8888888888888888,
              "#fdca26"
             ],
             [
              1,
              "#f0f921"
             ]
            ],
            "type": "contour"
           }
          ],
          "contourcarpet": [
           {
            "colorbar": {
             "outlinewidth": 0,
             "ticks": ""
            },
            "type": "contourcarpet"
           }
          ],
          "heatmap": [
           {
            "colorbar": {
             "outlinewidth": 0,
             "ticks": ""
            },
            "colorscale": [
             [
              0,
              "#0d0887"
             ],
             [
              0.1111111111111111,
              "#46039f"
             ],
             [
              0.2222222222222222,
              "#7201a8"
             ],
             [
              0.3333333333333333,
              "#9c179e"
             ],
             [
              0.4444444444444444,
              "#bd3786"
             ],
             [
              0.5555555555555556,
              "#d8576b"
             ],
             [
              0.6666666666666666,
              "#ed7953"
             ],
             [
              0.7777777777777778,
              "#fb9f3a"
             ],
             [
              0.8888888888888888,
              "#fdca26"
             ],
             [
              1,
              "#f0f921"
             ]
            ],
            "type": "heatmap"
           }
          ],
          "heatmapgl": [
           {
            "colorbar": {
             "outlinewidth": 0,
             "ticks": ""
            },
            "colorscale": [
             [
              0,
              "#0d0887"
             ],
             [
              0.1111111111111111,
              "#46039f"
             ],
             [
              0.2222222222222222,
              "#7201a8"
             ],
             [
              0.3333333333333333,
              "#9c179e"
             ],
             [
              0.4444444444444444,
              "#bd3786"
             ],
             [
              0.5555555555555556,
              "#d8576b"
             ],
             [
              0.6666666666666666,
              "#ed7953"
             ],
             [
              0.7777777777777778,
              "#fb9f3a"
             ],
             [
              0.8888888888888888,
              "#fdca26"
             ],
             [
              1,
              "#f0f921"
             ]
            ],
            "type": "heatmapgl"
           }
          ],
          "histogram": [
           {
            "marker": {
             "pattern": {
              "fillmode": "overlay",
              "size": 10,
              "solidity": 0.2
             }
            },
            "type": "histogram"
           }
          ],
          "histogram2d": [
           {
            "colorbar": {
             "outlinewidth": 0,
             "ticks": ""
            },
            "colorscale": [
             [
              0,
              "#0d0887"
             ],
             [
              0.1111111111111111,
              "#46039f"
             ],
             [
              0.2222222222222222,
              "#7201a8"
             ],
             [
              0.3333333333333333,
              "#9c179e"
             ],
             [
              0.4444444444444444,
              "#bd3786"
             ],
             [
              0.5555555555555556,
              "#d8576b"
             ],
             [
              0.6666666666666666,
              "#ed7953"
             ],
             [
              0.7777777777777778,
              "#fb9f3a"
             ],
             [
              0.8888888888888888,
              "#fdca26"
             ],
             [
              1,
              "#f0f921"
             ]
            ],
            "type": "histogram2d"
           }
          ],
          "histogram2dcontour": [
           {
            "colorbar": {
             "outlinewidth": 0,
             "ticks": ""
            },
            "colorscale": [
             [
              0,
              "#0d0887"
             ],
             [
              0.1111111111111111,
              "#46039f"
             ],
             [
              0.2222222222222222,
              "#7201a8"
             ],
             [
              0.3333333333333333,
              "#9c179e"
             ],
             [
              0.4444444444444444,
              "#bd3786"
             ],
             [
              0.5555555555555556,
              "#d8576b"
             ],
             [
              0.6666666666666666,
              "#ed7953"
             ],
             [
              0.7777777777777778,
              "#fb9f3a"
             ],
             [
              0.8888888888888888,
              "#fdca26"
             ],
             [
              1,
              "#f0f921"
             ]
            ],
            "type": "histogram2dcontour"
           }
          ],
          "mesh3d": [
           {
            "colorbar": {
             "outlinewidth": 0,
             "ticks": ""
            },
            "type": "mesh3d"
           }
          ],
          "parcoords": [
           {
            "line": {
             "colorbar": {
              "outlinewidth": 0,
              "ticks": ""
             }
            },
            "type": "parcoords"
           }
          ],
          "pie": [
           {
            "automargin": true,
            "type": "pie"
           }
          ],
          "scatter": [
           {
            "fillpattern": {
             "fillmode": "overlay",
             "size": 10,
             "solidity": 0.2
            },
            "type": "scatter"
           }
          ],
          "scatter3d": [
           {
            "line": {
             "colorbar": {
              "outlinewidth": 0,
              "ticks": ""
             }
            },
            "marker": {
             "colorbar": {
              "outlinewidth": 0,
              "ticks": ""
             }
            },
            "type": "scatter3d"
           }
          ],
          "scattercarpet": [
           {
            "marker": {
             "colorbar": {
              "outlinewidth": 0,
              "ticks": ""
             }
            },
            "type": "scattercarpet"
           }
          ],
          "scattergeo": [
           {
            "marker": {
             "colorbar": {
              "outlinewidth": 0,
              "ticks": ""
             }
            },
            "type": "scattergeo"
           }
          ],
          "scattergl": [
           {
            "marker": {
             "colorbar": {
              "outlinewidth": 0,
              "ticks": ""
             }
            },
            "type": "scattergl"
           }
          ],
          "scattermapbox": [
           {
            "marker": {
             "colorbar": {
              "outlinewidth": 0,
              "ticks": ""
             }
            },
            "type": "scattermapbox"
           }
          ],
          "scatterpolar": [
           {
            "marker": {
             "colorbar": {
              "outlinewidth": 0,
              "ticks": ""
             }
            },
            "type": "scatterpolar"
           }
          ],
          "scatterpolargl": [
           {
            "marker": {
             "colorbar": {
              "outlinewidth": 0,
              "ticks": ""
             }
            },
            "type": "scatterpolargl"
           }
          ],
          "scatterternary": [
           {
            "marker": {
             "colorbar": {
              "outlinewidth": 0,
              "ticks": ""
             }
            },
            "type": "scatterternary"
           }
          ],
          "surface": [
           {
            "colorbar": {
             "outlinewidth": 0,
             "ticks": ""
            },
            "colorscale": [
             [
              0,
              "#0d0887"
             ],
             [
              0.1111111111111111,
              "#46039f"
             ],
             [
              0.2222222222222222,
              "#7201a8"
             ],
             [
              0.3333333333333333,
              "#9c179e"
             ],
             [
              0.4444444444444444,
              "#bd3786"
             ],
             [
              0.5555555555555556,
              "#d8576b"
             ],
             [
              0.6666666666666666,
              "#ed7953"
             ],
             [
              0.7777777777777778,
              "#fb9f3a"
             ],
             [
              0.8888888888888888,
              "#fdca26"
             ],
             [
              1,
              "#f0f921"
             ]
            ],
            "type": "surface"
           }
          ],
          "table": [
           {
            "cells": {
             "fill": {
              "color": "#EBF0F8"
             },
             "line": {
              "color": "white"
             }
            },
            "header": {
             "fill": {
              "color": "#C8D4E3"
             },
             "line": {
              "color": "white"
             }
            },
            "type": "table"
           }
          ]
         },
         "layout": {
          "annotationdefaults": {
           "arrowcolor": "#2a3f5f",
           "arrowhead": 0,
           "arrowwidth": 1
          },
          "autotypenumbers": "strict",
          "coloraxis": {
           "colorbar": {
            "outlinewidth": 0,
            "ticks": ""
           }
          },
          "colorscale": {
           "diverging": [
            [
             0,
             "#8e0152"
            ],
            [
             0.1,
             "#c51b7d"
            ],
            [
             0.2,
             "#de77ae"
            ],
            [
             0.3,
             "#f1b6da"
            ],
            [
             0.4,
             "#fde0ef"
            ],
            [
             0.5,
             "#f7f7f7"
            ],
            [
             0.6,
             "#e6f5d0"
            ],
            [
             0.7,
             "#b8e186"
            ],
            [
             0.8,
             "#7fbc41"
            ],
            [
             0.9,
             "#4d9221"
            ],
            [
             1,
             "#276419"
            ]
           ],
           "sequential": [
            [
             0,
             "#0d0887"
            ],
            [
             0.1111111111111111,
             "#46039f"
            ],
            [
             0.2222222222222222,
             "#7201a8"
            ],
            [
             0.3333333333333333,
             "#9c179e"
            ],
            [
             0.4444444444444444,
             "#bd3786"
            ],
            [
             0.5555555555555556,
             "#d8576b"
            ],
            [
             0.6666666666666666,
             "#ed7953"
            ],
            [
             0.7777777777777778,
             "#fb9f3a"
            ],
            [
             0.8888888888888888,
             "#fdca26"
            ],
            [
             1,
             "#f0f921"
            ]
           ],
           "sequentialminus": [
            [
             0,
             "#0d0887"
            ],
            [
             0.1111111111111111,
             "#46039f"
            ],
            [
             0.2222222222222222,
             "#7201a8"
            ],
            [
             0.3333333333333333,
             "#9c179e"
            ],
            [
             0.4444444444444444,
             "#bd3786"
            ],
            [
             0.5555555555555556,
             "#d8576b"
            ],
            [
             0.6666666666666666,
             "#ed7953"
            ],
            [
             0.7777777777777778,
             "#fb9f3a"
            ],
            [
             0.8888888888888888,
             "#fdca26"
            ],
            [
             1,
             "#f0f921"
            ]
           ]
          },
          "colorway": [
           "#636efa",
           "#EF553B",
           "#00cc96",
           "#ab63fa",
           "#FFA15A",
           "#19d3f3",
           "#FF6692",
           "#B6E880",
           "#FF97FF",
           "#FECB52"
          ],
          "font": {
           "color": "#2a3f5f"
          },
          "geo": {
           "bgcolor": "white",
           "lakecolor": "white",
           "landcolor": "#E5ECF6",
           "showlakes": true,
           "showland": true,
           "subunitcolor": "white"
          },
          "hoverlabel": {
           "align": "left"
          },
          "hovermode": "closest",
          "mapbox": {
           "style": "light"
          },
          "paper_bgcolor": "white",
          "plot_bgcolor": "#E5ECF6",
          "polar": {
           "angularaxis": {
            "gridcolor": "white",
            "linecolor": "white",
            "ticks": ""
           },
           "bgcolor": "#E5ECF6",
           "radialaxis": {
            "gridcolor": "white",
            "linecolor": "white",
            "ticks": ""
           }
          },
          "scene": {
           "xaxis": {
            "backgroundcolor": "#E5ECF6",
            "gridcolor": "white",
            "gridwidth": 2,
            "linecolor": "white",
            "showbackground": true,
            "ticks": "",
            "zerolinecolor": "white"
           },
           "yaxis": {
            "backgroundcolor": "#E5ECF6",
            "gridcolor": "white",
            "gridwidth": 2,
            "linecolor": "white",
            "showbackground": true,
            "ticks": "",
            "zerolinecolor": "white"
           },
           "zaxis": {
            "backgroundcolor": "#E5ECF6",
            "gridcolor": "white",
            "gridwidth": 2,
            "linecolor": "white",
            "showbackground": true,
            "ticks": "",
            "zerolinecolor": "white"
           }
          },
          "shapedefaults": {
           "line": {
            "color": "#2a3f5f"
           }
          },
          "ternary": {
           "aaxis": {
            "gridcolor": "white",
            "linecolor": "white",
            "ticks": ""
           },
           "baxis": {
            "gridcolor": "white",
            "linecolor": "white",
            "ticks": ""
           },
           "bgcolor": "#E5ECF6",
           "caxis": {
            "gridcolor": "white",
            "linecolor": "white",
            "ticks": ""
           }
          },
          "title": {
           "x": 0.05
          },
          "xaxis": {
           "automargin": true,
           "gridcolor": "white",
           "linecolor": "white",
           "ticks": "",
           "title": {
            "standoff": 15
           },
           "zerolinecolor": "white",
           "zerolinewidth": 2
          },
          "yaxis": {
           "automargin": true,
           "gridcolor": "white",
           "linecolor": "white",
           "ticks": "",
           "title": {
            "standoff": 15
           },
           "zerolinecolor": "white",
           "zerolinewidth": 2
          }
         }
        },
        "title": {
         "text": "Random Route",
         "x": 0.5,
         "xanchor": "center",
         "y": 0.85,
         "yanchor": "top"
        },
        "width": 1000
       }
      }
     },
     "metadata": {},
     "output_type": "display_data"
    }
   ],
   "source": [
    "# Create the map for the random route\n",
    "fig_random = go.Figure()\n",
    "\n",
    "# Add the cities to the map\n",
    "for city in random_route:\n",
    "    city_data = df[df['city'] == city]\n",
    "    if not city_data.empty:\n",
    "        text_position = text_positions.get(city, 'top right')\n",
    "        fig_random.add_trace(go.Scattergeo(\n",
    "            lon=city_data['lng'].values,\n",
    "            lat=city_data['lat'].values,\n",
    "            mode='markers+text',\n",
    "            marker=dict(size=10, color=marker),\n",
    "            text=city,\n",
    "            textposition=text_position,\n",
    "            textfont=dict(color=text_cities),\n",
    "            name=city,\n",
    "            showlegend=False  # Hide city names from legend\n",
    "        ))\n",
    "\n",
    "# Change line to a different color for each leg of the route\n",
    "colors = px.colors.qualitative.Plotly\n",
    "\n",
    "# Add the lines between the cities\n",
    "for i in range(len(random_route) - 1):\n",
    "    city_data_1 = df[df['city'] == random_route[i]]\n",
    "    city_data_2 = df[df['city'] == random_route[i + 1]]\n",
    "    if not city_data_1.empty and not city_data_2.empty:\n",
    "        fig_random.add_trace(go.Scattergeo(\n",
    "            lon=[city_data_1['lng'].values[0], city_data_2['lng'].values[0]],\n",
    "            lat=[city_data_1['lat'].values[0], city_data_2['lat'].values[0]],\n",
    "            mode='lines',\n",
    "            line=dict(width=2, color=colors[i % len(colors)]),\n",
    "            name=f'Leg {i + 1}',\n",
    "            showlegend=True  # Show only leg names in legend\n",
    "        ))\n",
    "\n",
    "# Update the layout\n",
    "fig_random.update_layout(\n",
    "    title={\n",
    "        'text': 'Random Route',\n",
    "        'y': 0.85,  # Move the title to just above the map\n",
    "        'x': 0.5,  # Center the title\n",
    "        'xanchor': 'center',\n",
    "        'yanchor': 'top'\n",
    "    },\n",
    "    showlegend=True,\n",
    "    legend=dict(\n",
    "        y=0.5,  # Position the legend midway down the plot\n",
    "        yanchor=\"middle\"\n",
    "    ),\n",
    "    geo=dict(\n",
    "        scope='north america',  # restrict the map to the USA\n",
    "        showland=True,\n",
    "        showcountries=True,\n",
    "        showocean=True,\n",
    "        oceancolor=ocean,\n",
    "        landcolor=land,\n",
    "        countrywidth=0.5,\n",
    "        subunitwidth=0.5,\n",
    "        showlakes=True,\n",
    "        lakecolor=lake,\n",
    "        showsubunits=True,\n",
    "        showrivers=True,\n",
    "        rivercolor=river,\n",
    "    ),\n",
    "    width=width,  # make the map larger\n",
    "    height=height,  # make the map larger\n",
    "    margin=dict(l=10, r=10, t=40, b=10)  # increase top margin for title\n",
    ")\n",
    "\n",
    "# Restrict map to the US\n",
    "fig_random.update_geos(lataxis_range=[25, 50], lonaxis_range=[-125, -65])\n",
    "\n",
    "# Add label for distance of route\n",
    "fig_random.add_annotation(\n",
    "    x=0.5,\n",
    "    y=0.1,\n",
    "    showarrow=False,\n",
    "    text=f'Total Distance: {distance_random:.2f} miles',\n",
    "    font=dict(size=20, color=text_distance),\n",
    "    xref='paper',\n",
    "    yref='paper'\n",
    ")\n",
    "\n",
    "# Set background color\n",
    "fig_random.update_layout(\n",
    "    plot_bgcolor='rgba(0, 0, 0, 0)',\n",
    "    paper_bgcolor='rgba(0, 0, 0, 0)',\n",
    "    font=dict(color='white')\n",
    ")\n",
    "\n",
    "\n",
    "# Limit ability to scroll across the map\n",
    "fig_random.update_layout(dragmode=False)\n",
    "\n",
    "# Show the map\n",
    "fig_random.show()"
   ]
  },
  {
   "cell_type": "code",
   "execution_count": 14,
   "metadata": {},
   "outputs": [],
   "source": [
    "# Set colors\n",
    "ocean = '#CBF3F0'\n",
    "lake = '#CBF3F0'\n",
    "river = '#CBF3F0'\n",
    "land = '#FFBF69'\n",
    "text_cities = 'Black'\n",
    "text_distance = '#FFFFFF'\n",
    "lines = 'black'\n",
    "marker = '#FF9F1C'\n",
    "mode = 'plotly_dark' # 'plotly', 'plotly_white', 'plotly_dark', 'ggplot2', 'seaborn', 'simple_white', 'none'\n",
    "\n",
    "# Set borders\n",
    "width = 1000\n",
    "height = 800\n",
    "\n",
    "# Text positions for labels\n",
    "text_positions = {\n",
    "    'Chicago': 'bottom right',\n",
    "    'Los Angeles': 'bottom left',\n",
    "    'Dallas': 'top right',\n",
    "    'Atlanta': 'bottom center',\n",
    "    'Denver': 'bottom left',\n",
    "    'Tampa': 'bottom left',\n",
    "    'Seattle': 'bottom left',\n",
    "    'New York': 'top left'\n",
    "}"
   ]
  },
  {
   "cell_type": "code",
   "execution_count": 15,
   "metadata": {},
   "outputs": [
    {
     "data": {
      "text/plain": [
       "array([[   0.        , 1516.62189655, 1204.49353827, 1025.23850564,\n",
       "        1629.59707375,  842.91676196,  911.06851188,  659.56730841],\n",
       "       [1516.62189655,    0.        ,  414.3534289 , 2527.4769134 ,\n",
       "        1000.54025327, 2162.6775718 ,  999.07245395,  915.9032406 ],\n",
       "       [1204.49353827,  414.3534289 ,    0.        , 2179.96341111,\n",
       "         749.72472851, 1943.32593843,  584.72030505,  717.26869326],\n",
       "       [1025.23850564, 2527.4769134 , 2179.96341111,    0.        ,\n",
       "        2412.07463625,  954.03318845, 1735.61142598, 1682.1397503 ],\n",
       "       [1629.59707375, 1000.54025327,  749.72472851, 2412.07463625,\n",
       "           0.        , 2462.09584701,  720.09492511, 1374.4400749 ],\n",
       "       [ 842.91676196, 2162.6775718 , 1943.32593843,  954.03318845,\n",
       "        2462.09584701,    0.        , 1748.89182428, 1251.12055904],\n",
       "       [ 911.06851188,  999.07245395,  584.72030505, 1735.61142598,\n",
       "         720.09492511, 1748.89182428,    0.        ,  798.440088  ],\n",
       "       [ 659.56730841,  915.9032406 ,  717.26869326, 1682.1397503 ,\n",
       "        1374.4400749 , 1251.12055904,  798.440088  ,    0.        ]])"
      ]
     },
     "execution_count": 15,
     "metadata": {},
     "output_type": "execute_result"
    }
   ],
   "source": [
    "# Iterate over the cities_states dictionary and populate cities_numbers with new values to map input from JS to generate a new map\n",
    "cities_numbers = {}\n",
    "for index, city in enumerate(cities_states.keys()):\n",
    "    cities_numbers[city] = index\n",
    "\n",
    "# Initiate a variable to change the start location based on input from app\n",
    "start_loc = cities_numbers.get(sys.argv[0], 0) # Defaults to index 0 to avoid error\n",
    "\n",
    "# Extract the distance matrix generated from the dataframe\n",
    "distance_matrix = df.drop(columns, axis=1).values\n",
    "distance_matrix"
   ]
  },
  {
   "cell_type": "code",
   "execution_count": 16,
   "metadata": {},
   "outputs": [
    {
     "data": {
      "text/plain": [
       "array([[   0.        , 1516.62189655, 1204.49353827, 1025.23850564,\n",
       "        1629.59707375,  842.91676196,  911.06851188,  659.56730841],\n",
       "       [1516.62189655,    0.        ,  414.3534289 , 2527.4769134 ,\n",
       "        1000.54025327, 2162.6775718 ,  999.07245395,  915.9032406 ],\n",
       "       [1204.49353827,  414.3534289 ,    0.        , 2179.96341111,\n",
       "         749.72472851, 1943.32593843,  584.72030505,  717.26869326],\n",
       "       [1025.23850564, 2527.4769134 , 2179.96341111,    0.        ,\n",
       "        2412.07463625,  954.03318845, 1735.61142598, 1682.1397503 ],\n",
       "       [1629.59707375, 1000.54025327,  749.72472851, 2412.07463625,\n",
       "           0.        , 2462.09584701,  720.09492511, 1374.4400749 ],\n",
       "       [ 842.91676196, 2162.6775718 , 1943.32593843,  954.03318845,\n",
       "        2462.09584701,    0.        , 1748.89182428, 1251.12055904],\n",
       "       [ 911.06851188,  999.07245395,  584.72030505, 1735.61142598,\n",
       "         720.09492511, 1748.89182428,    0.        ,  798.440088  ],\n",
       "       [ 659.56730841,  915.9032406 ,  717.26869326, 1682.1397503 ,\n",
       "        1374.4400749 , 1251.12055904,  798.440088  ,    0.        ]])"
      ]
     },
     "execution_count": 16,
     "metadata": {},
     "output_type": "execute_result"
    }
   ],
   "source": [
    "# Adjust the distance matrix to start with the chosen starting point\n",
    "distance_matrix = np.roll(distance_matrix, -start_loc, axis=0)\n",
    "distance_matrix = np.roll(distance_matrix, -start_loc, axis=1)\n",
    "distance_matrix"
   ]
  },
  {
   "cell_type": "code",
   "execution_count": 17,
   "metadata": {},
   "outputs": [
    {
     "data": {
      "text/plain": [
       "0         Denver\n",
       "1          Tampa\n",
       "2        Atlanta\n",
       "3        Seattle\n",
       "4       New York\n",
       "5    Los Angeles\n",
       "6        Chicago\n",
       "7         Dallas\n",
       "Name: city, dtype: object"
      ]
     },
     "execution_count": 17,
     "metadata": {},
     "output_type": "execute_result"
    }
   ],
   "source": [
    "# Initiate a new df that matches the custom start point as index 0\n",
    "rolled_df = df.reindex(np.roll(df.index, -start_loc, axis=0)).reset_index(drop=True)\n",
    "rolled_df['city']"
   ]
  },
  {
   "cell_type": "code",
   "execution_count": 18,
   "metadata": {},
   "outputs": [
    {
     "data": {
      "text/plain": [
       "array(['Denver', 'Seattle', 'Los Angeles', 'Dallas', 'Tampa', 'Atlanta',\n",
       "       'New York', 'Chicago'], dtype=object)"
      ]
     },
     "execution_count": 18,
     "metadata": {},
     "output_type": "execute_result"
    }
   ],
   "source": [
    "# Run the model to get the optimal route from the start point\n",
    "permutation, distance_optimal = solve_tsp_dynamic_programming(distance_matrix)\n",
    "\n",
    "# Initiate list of cities based on optimal route at the custom start point\n",
    "optimal_route = rolled_df.loc[permutation, 'city'].values\n",
    "optimal_route"
   ]
  },
  {
   "cell_type": "code",
   "execution_count": 19,
   "metadata": {},
   "outputs": [
    {
     "data": {
      "application/vnd.plotly.v1+json": {
       "config": {
        "plotlyServerURL": "https://plot.ly"
       },
       "data": [
        {
         "lat": [
          39.762
         ],
         "lon": [
          -104.8758
         ],
         "marker": {
          "color": "#FF9F1C",
          "size": 10
         },
         "mode": "markers+text",
         "name": "Denver",
         "showlegend": false,
         "text": "Denver",
         "textfont": {
          "color": "Black"
         },
         "textposition": "bottom left",
         "type": "scattergeo"
        },
        {
         "lat": [
          47.6211
         ],
         "lon": [
          -122.3244
         ],
         "marker": {
          "color": "#FF9F1C",
          "size": 10
         },
         "mode": "markers+text",
         "name": "Seattle",
         "showlegend": false,
         "text": "Seattle",
         "textfont": {
          "color": "Black"
         },
         "textposition": "bottom left",
         "type": "scattergeo"
        },
        {
         "lat": [
          34.1141
         ],
         "lon": [
          -118.4068
         ],
         "marker": {
          "color": "#FF9F1C",
          "size": 10
         },
         "mode": "markers+text",
         "name": "Los Angeles",
         "showlegend": false,
         "text": "Los Angeles",
         "textfont": {
          "color": "Black"
         },
         "textposition": "bottom left",
         "type": "scattergeo"
        },
        {
         "lat": [
          32.7935
         ],
         "lon": [
          -96.7667
         ],
         "marker": {
          "color": "#FF9F1C",
          "size": 10
         },
         "mode": "markers+text",
         "name": "Dallas",
         "showlegend": false,
         "text": "Dallas",
         "textfont": {
          "color": "Black"
         },
         "textposition": "top right",
         "type": "scattergeo"
        },
        {
         "lat": [
          27.9945
         ],
         "lon": [
          -82.4447
         ],
         "marker": {
          "color": "#FF9F1C",
          "size": 10
         },
         "mode": "markers+text",
         "name": "Tampa",
         "showlegend": false,
         "text": "Tampa",
         "textfont": {
          "color": "Black"
         },
         "textposition": "bottom left",
         "type": "scattergeo"
        },
        {
         "lat": [
          33.7628
         ],
         "lon": [
          -84.422
         ],
         "marker": {
          "color": "#FF9F1C",
          "size": 10
         },
         "mode": "markers+text",
         "name": "Atlanta",
         "showlegend": false,
         "text": "Atlanta",
         "textfont": {
          "color": "Black"
         },
         "textposition": "bottom center",
         "type": "scattergeo"
        },
        {
         "lat": [
          40.6943
         ],
         "lon": [
          -73.9249
         ],
         "marker": {
          "color": "#FF9F1C",
          "size": 10
         },
         "mode": "markers+text",
         "name": "New York",
         "showlegend": false,
         "text": "New York",
         "textfont": {
          "color": "Black"
         },
         "textposition": "top left",
         "type": "scattergeo"
        },
        {
         "lat": [
          41.8375
         ],
         "lon": [
          -87.6866
         ],
         "marker": {
          "color": "#FF9F1C",
          "size": 10
         },
         "mode": "markers+text",
         "name": "Chicago",
         "showlegend": false,
         "text": "Chicago",
         "textfont": {
          "color": "Black"
         },
         "textposition": "bottom right",
         "type": "scattergeo"
        },
        {
         "lat": [
          39.762,
          47.6211
         ],
         "line": {
          "color": "#636EFA",
          "width": 2
         },
         "lon": [
          -104.8758,
          -122.3244
         ],
         "mode": "lines",
         "name": "Leg 1",
         "showlegend": true,
         "type": "scattergeo"
        },
        {
         "lat": [
          47.6211,
          34.1141
         ],
         "line": {
          "color": "#EF553B",
          "width": 2
         },
         "lon": [
          -122.3244,
          -118.4068
         ],
         "mode": "lines",
         "name": "Leg 2",
         "showlegend": true,
         "type": "scattergeo"
        },
        {
         "lat": [
          34.1141,
          32.7935
         ],
         "line": {
          "color": "#00CC96",
          "width": 2
         },
         "lon": [
          -118.4068,
          -96.7667
         ],
         "mode": "lines",
         "name": "Leg 3",
         "showlegend": true,
         "type": "scattergeo"
        },
        {
         "lat": [
          32.7935,
          27.9945
         ],
         "line": {
          "color": "#AB63FA",
          "width": 2
         },
         "lon": [
          -96.7667,
          -82.4447
         ],
         "mode": "lines",
         "name": "Leg 4",
         "showlegend": true,
         "type": "scattergeo"
        },
        {
         "lat": [
          27.9945,
          33.7628
         ],
         "line": {
          "color": "#FFA15A",
          "width": 2
         },
         "lon": [
          -82.4447,
          -84.422
         ],
         "mode": "lines",
         "name": "Leg 5",
         "showlegend": true,
         "type": "scattergeo"
        },
        {
         "lat": [
          33.7628,
          40.6943
         ],
         "line": {
          "color": "#19D3F3",
          "width": 2
         },
         "lon": [
          -84.422,
          -73.9249
         ],
         "mode": "lines",
         "name": "Leg 6",
         "showlegend": true,
         "type": "scattergeo"
        },
        {
         "lat": [
          40.6943,
          41.8375
         ],
         "line": {
          "color": "#FF6692",
          "width": 2
         },
         "lon": [
          -73.9249,
          -87.6866
         ],
         "mode": "lines",
         "name": "Leg 7",
         "showlegend": true,
         "type": "scattergeo"
        }
       ],
       "layout": {
        "annotations": [
         {
          "font": {
           "color": "#FFFFFF",
           "size": 20
          },
          "showarrow": false,
          "text": "Total Distance: 6941.54 miles",
          "x": 0.5,
          "xref": "paper",
          "y": 0.1,
          "yref": "paper"
         }
        ],
        "dragmode": false,
        "font": {
         "color": "white"
        },
        "geo": {
         "countrywidth": 0.5,
         "lakecolor": "#CBF3F0",
         "landcolor": "#FFBF69",
         "lataxis": {
          "range": [
           25,
           50
          ]
         },
         "lonaxis": {
          "range": [
           -125,
           -65
          ]
         },
         "oceancolor": "#CBF3F0",
         "rivercolor": "#CBF3F0",
         "scope": "north america",
         "showcountries": true,
         "showlakes": true,
         "showland": true,
         "showocean": true,
         "showrivers": true,
         "showsubunits": true,
         "subunitwidth": 0.5
        },
        "height": 800,
        "legend": {
         "y": 0.5,
         "yanchor": "middle"
        },
        "margin": {
         "b": 10,
         "l": 10,
         "r": 10,
         "t": 40
        },
        "paper_bgcolor": "rgba(0, 0, 0, 0)",
        "plot_bgcolor": "rgba(0, 0, 0, 0)",
        "showlegend": true,
        "template": {
         "data": {
          "bar": [
           {
            "error_x": {
             "color": "#2a3f5f"
            },
            "error_y": {
             "color": "#2a3f5f"
            },
            "marker": {
             "line": {
              "color": "#E5ECF6",
              "width": 0.5
             },
             "pattern": {
              "fillmode": "overlay",
              "size": 10,
              "solidity": 0.2
             }
            },
            "type": "bar"
           }
          ],
          "barpolar": [
           {
            "marker": {
             "line": {
              "color": "#E5ECF6",
              "width": 0.5
             },
             "pattern": {
              "fillmode": "overlay",
              "size": 10,
              "solidity": 0.2
             }
            },
            "type": "barpolar"
           }
          ],
          "carpet": [
           {
            "aaxis": {
             "endlinecolor": "#2a3f5f",
             "gridcolor": "white",
             "linecolor": "white",
             "minorgridcolor": "white",
             "startlinecolor": "#2a3f5f"
            },
            "baxis": {
             "endlinecolor": "#2a3f5f",
             "gridcolor": "white",
             "linecolor": "white",
             "minorgridcolor": "white",
             "startlinecolor": "#2a3f5f"
            },
            "type": "carpet"
           }
          ],
          "choropleth": [
           {
            "colorbar": {
             "outlinewidth": 0,
             "ticks": ""
            },
            "type": "choropleth"
           }
          ],
          "contour": [
           {
            "colorbar": {
             "outlinewidth": 0,
             "ticks": ""
            },
            "colorscale": [
             [
              0,
              "#0d0887"
             ],
             [
              0.1111111111111111,
              "#46039f"
             ],
             [
              0.2222222222222222,
              "#7201a8"
             ],
             [
              0.3333333333333333,
              "#9c179e"
             ],
             [
              0.4444444444444444,
              "#bd3786"
             ],
             [
              0.5555555555555556,
              "#d8576b"
             ],
             [
              0.6666666666666666,
              "#ed7953"
             ],
             [
              0.7777777777777778,
              "#fb9f3a"
             ],
             [
              0.8888888888888888,
              "#fdca26"
             ],
             [
              1,
              "#f0f921"
             ]
            ],
            "type": "contour"
           }
          ],
          "contourcarpet": [
           {
            "colorbar": {
             "outlinewidth": 0,
             "ticks": ""
            },
            "type": "contourcarpet"
           }
          ],
          "heatmap": [
           {
            "colorbar": {
             "outlinewidth": 0,
             "ticks": ""
            },
            "colorscale": [
             [
              0,
              "#0d0887"
             ],
             [
              0.1111111111111111,
              "#46039f"
             ],
             [
              0.2222222222222222,
              "#7201a8"
             ],
             [
              0.3333333333333333,
              "#9c179e"
             ],
             [
              0.4444444444444444,
              "#bd3786"
             ],
             [
              0.5555555555555556,
              "#d8576b"
             ],
             [
              0.6666666666666666,
              "#ed7953"
             ],
             [
              0.7777777777777778,
              "#fb9f3a"
             ],
             [
              0.8888888888888888,
              "#fdca26"
             ],
             [
              1,
              "#f0f921"
             ]
            ],
            "type": "heatmap"
           }
          ],
          "heatmapgl": [
           {
            "colorbar": {
             "outlinewidth": 0,
             "ticks": ""
            },
            "colorscale": [
             [
              0,
              "#0d0887"
             ],
             [
              0.1111111111111111,
              "#46039f"
             ],
             [
              0.2222222222222222,
              "#7201a8"
             ],
             [
              0.3333333333333333,
              "#9c179e"
             ],
             [
              0.4444444444444444,
              "#bd3786"
             ],
             [
              0.5555555555555556,
              "#d8576b"
             ],
             [
              0.6666666666666666,
              "#ed7953"
             ],
             [
              0.7777777777777778,
              "#fb9f3a"
             ],
             [
              0.8888888888888888,
              "#fdca26"
             ],
             [
              1,
              "#f0f921"
             ]
            ],
            "type": "heatmapgl"
           }
          ],
          "histogram": [
           {
            "marker": {
             "pattern": {
              "fillmode": "overlay",
              "size": 10,
              "solidity": 0.2
             }
            },
            "type": "histogram"
           }
          ],
          "histogram2d": [
           {
            "colorbar": {
             "outlinewidth": 0,
             "ticks": ""
            },
            "colorscale": [
             [
              0,
              "#0d0887"
             ],
             [
              0.1111111111111111,
              "#46039f"
             ],
             [
              0.2222222222222222,
              "#7201a8"
             ],
             [
              0.3333333333333333,
              "#9c179e"
             ],
             [
              0.4444444444444444,
              "#bd3786"
             ],
             [
              0.5555555555555556,
              "#d8576b"
             ],
             [
              0.6666666666666666,
              "#ed7953"
             ],
             [
              0.7777777777777778,
              "#fb9f3a"
             ],
             [
              0.8888888888888888,
              "#fdca26"
             ],
             [
              1,
              "#f0f921"
             ]
            ],
            "type": "histogram2d"
           }
          ],
          "histogram2dcontour": [
           {
            "colorbar": {
             "outlinewidth": 0,
             "ticks": ""
            },
            "colorscale": [
             [
              0,
              "#0d0887"
             ],
             [
              0.1111111111111111,
              "#46039f"
             ],
             [
              0.2222222222222222,
              "#7201a8"
             ],
             [
              0.3333333333333333,
              "#9c179e"
             ],
             [
              0.4444444444444444,
              "#bd3786"
             ],
             [
              0.5555555555555556,
              "#d8576b"
             ],
             [
              0.6666666666666666,
              "#ed7953"
             ],
             [
              0.7777777777777778,
              "#fb9f3a"
             ],
             [
              0.8888888888888888,
              "#fdca26"
             ],
             [
              1,
              "#f0f921"
             ]
            ],
            "type": "histogram2dcontour"
           }
          ],
          "mesh3d": [
           {
            "colorbar": {
             "outlinewidth": 0,
             "ticks": ""
            },
            "type": "mesh3d"
           }
          ],
          "parcoords": [
           {
            "line": {
             "colorbar": {
              "outlinewidth": 0,
              "ticks": ""
             }
            },
            "type": "parcoords"
           }
          ],
          "pie": [
           {
            "automargin": true,
            "type": "pie"
           }
          ],
          "scatter": [
           {
            "fillpattern": {
             "fillmode": "overlay",
             "size": 10,
             "solidity": 0.2
            },
            "type": "scatter"
           }
          ],
          "scatter3d": [
           {
            "line": {
             "colorbar": {
              "outlinewidth": 0,
              "ticks": ""
             }
            },
            "marker": {
             "colorbar": {
              "outlinewidth": 0,
              "ticks": ""
             }
            },
            "type": "scatter3d"
           }
          ],
          "scattercarpet": [
           {
            "marker": {
             "colorbar": {
              "outlinewidth": 0,
              "ticks": ""
             }
            },
            "type": "scattercarpet"
           }
          ],
          "scattergeo": [
           {
            "marker": {
             "colorbar": {
              "outlinewidth": 0,
              "ticks": ""
             }
            },
            "type": "scattergeo"
           }
          ],
          "scattergl": [
           {
            "marker": {
             "colorbar": {
              "outlinewidth": 0,
              "ticks": ""
             }
            },
            "type": "scattergl"
           }
          ],
          "scattermapbox": [
           {
            "marker": {
             "colorbar": {
              "outlinewidth": 0,
              "ticks": ""
             }
            },
            "type": "scattermapbox"
           }
          ],
          "scatterpolar": [
           {
            "marker": {
             "colorbar": {
              "outlinewidth": 0,
              "ticks": ""
             }
            },
            "type": "scatterpolar"
           }
          ],
          "scatterpolargl": [
           {
            "marker": {
             "colorbar": {
              "outlinewidth": 0,
              "ticks": ""
             }
            },
            "type": "scatterpolargl"
           }
          ],
          "scatterternary": [
           {
            "marker": {
             "colorbar": {
              "outlinewidth": 0,
              "ticks": ""
             }
            },
            "type": "scatterternary"
           }
          ],
          "surface": [
           {
            "colorbar": {
             "outlinewidth": 0,
             "ticks": ""
            },
            "colorscale": [
             [
              0,
              "#0d0887"
             ],
             [
              0.1111111111111111,
              "#46039f"
             ],
             [
              0.2222222222222222,
              "#7201a8"
             ],
             [
              0.3333333333333333,
              "#9c179e"
             ],
             [
              0.4444444444444444,
              "#bd3786"
             ],
             [
              0.5555555555555556,
              "#d8576b"
             ],
             [
              0.6666666666666666,
              "#ed7953"
             ],
             [
              0.7777777777777778,
              "#fb9f3a"
             ],
             [
              0.8888888888888888,
              "#fdca26"
             ],
             [
              1,
              "#f0f921"
             ]
            ],
            "type": "surface"
           }
          ],
          "table": [
           {
            "cells": {
             "fill": {
              "color": "#EBF0F8"
             },
             "line": {
              "color": "white"
             }
            },
            "header": {
             "fill": {
              "color": "#C8D4E3"
             },
             "line": {
              "color": "white"
             }
            },
            "type": "table"
           }
          ]
         },
         "layout": {
          "annotationdefaults": {
           "arrowcolor": "#2a3f5f",
           "arrowhead": 0,
           "arrowwidth": 1
          },
          "autotypenumbers": "strict",
          "coloraxis": {
           "colorbar": {
            "outlinewidth": 0,
            "ticks": ""
           }
          },
          "colorscale": {
           "diverging": [
            [
             0,
             "#8e0152"
            ],
            [
             0.1,
             "#c51b7d"
            ],
            [
             0.2,
             "#de77ae"
            ],
            [
             0.3,
             "#f1b6da"
            ],
            [
             0.4,
             "#fde0ef"
            ],
            [
             0.5,
             "#f7f7f7"
            ],
            [
             0.6,
             "#e6f5d0"
            ],
            [
             0.7,
             "#b8e186"
            ],
            [
             0.8,
             "#7fbc41"
            ],
            [
             0.9,
             "#4d9221"
            ],
            [
             1,
             "#276419"
            ]
           ],
           "sequential": [
            [
             0,
             "#0d0887"
            ],
            [
             0.1111111111111111,
             "#46039f"
            ],
            [
             0.2222222222222222,
             "#7201a8"
            ],
            [
             0.3333333333333333,
             "#9c179e"
            ],
            [
             0.4444444444444444,
             "#bd3786"
            ],
            [
             0.5555555555555556,
             "#d8576b"
            ],
            [
             0.6666666666666666,
             "#ed7953"
            ],
            [
             0.7777777777777778,
             "#fb9f3a"
            ],
            [
             0.8888888888888888,
             "#fdca26"
            ],
            [
             1,
             "#f0f921"
            ]
           ],
           "sequentialminus": [
            [
             0,
             "#0d0887"
            ],
            [
             0.1111111111111111,
             "#46039f"
            ],
            [
             0.2222222222222222,
             "#7201a8"
            ],
            [
             0.3333333333333333,
             "#9c179e"
            ],
            [
             0.4444444444444444,
             "#bd3786"
            ],
            [
             0.5555555555555556,
             "#d8576b"
            ],
            [
             0.6666666666666666,
             "#ed7953"
            ],
            [
             0.7777777777777778,
             "#fb9f3a"
            ],
            [
             0.8888888888888888,
             "#fdca26"
            ],
            [
             1,
             "#f0f921"
            ]
           ]
          },
          "colorway": [
           "#636efa",
           "#EF553B",
           "#00cc96",
           "#ab63fa",
           "#FFA15A",
           "#19d3f3",
           "#FF6692",
           "#B6E880",
           "#FF97FF",
           "#FECB52"
          ],
          "font": {
           "color": "#2a3f5f"
          },
          "geo": {
           "bgcolor": "white",
           "lakecolor": "white",
           "landcolor": "#E5ECF6",
           "showlakes": true,
           "showland": true,
           "subunitcolor": "white"
          },
          "hoverlabel": {
           "align": "left"
          },
          "hovermode": "closest",
          "mapbox": {
           "style": "light"
          },
          "paper_bgcolor": "white",
          "plot_bgcolor": "#E5ECF6",
          "polar": {
           "angularaxis": {
            "gridcolor": "white",
            "linecolor": "white",
            "ticks": ""
           },
           "bgcolor": "#E5ECF6",
           "radialaxis": {
            "gridcolor": "white",
            "linecolor": "white",
            "ticks": ""
           }
          },
          "scene": {
           "xaxis": {
            "backgroundcolor": "#E5ECF6",
            "gridcolor": "white",
            "gridwidth": 2,
            "linecolor": "white",
            "showbackground": true,
            "ticks": "",
            "zerolinecolor": "white"
           },
           "yaxis": {
            "backgroundcolor": "#E5ECF6",
            "gridcolor": "white",
            "gridwidth": 2,
            "linecolor": "white",
            "showbackground": true,
            "ticks": "",
            "zerolinecolor": "white"
           },
           "zaxis": {
            "backgroundcolor": "#E5ECF6",
            "gridcolor": "white",
            "gridwidth": 2,
            "linecolor": "white",
            "showbackground": true,
            "ticks": "",
            "zerolinecolor": "white"
           }
          },
          "shapedefaults": {
           "line": {
            "color": "#2a3f5f"
           }
          },
          "ternary": {
           "aaxis": {
            "gridcolor": "white",
            "linecolor": "white",
            "ticks": ""
           },
           "baxis": {
            "gridcolor": "white",
            "linecolor": "white",
            "ticks": ""
           },
           "bgcolor": "#E5ECF6",
           "caxis": {
            "gridcolor": "white",
            "linecolor": "white",
            "ticks": ""
           }
          },
          "title": {
           "x": 0.05
          },
          "xaxis": {
           "automargin": true,
           "gridcolor": "white",
           "linecolor": "white",
           "ticks": "",
           "title": {
            "standoff": 15
           },
           "zerolinecolor": "white",
           "zerolinewidth": 2
          },
          "yaxis": {
           "automargin": true,
           "gridcolor": "white",
           "linecolor": "white",
           "ticks": "",
           "title": {
            "standoff": 15
           },
           "zerolinecolor": "white",
           "zerolinewidth": 2
          }
         }
        },
        "title": {
         "text": "Optimal Route",
         "x": 0.5,
         "xanchor": "center",
         "y": 0.85,
         "yanchor": "top"
        },
        "width": 1000
       }
      }
     },
     "metadata": {},
     "output_type": "display_data"
    }
   ],
   "source": [
    "# Create the map for the optimal route\n",
    "fig_optimal = go.Figure()\n",
    "\n",
    "# Add the cities to the map\n",
    "for city in optimal_route:\n",
    "    city_data = df[df['city'] == city]\n",
    "    if not city_data.empty:\n",
    "        text_position = text_positions.get(city, 'top right')\n",
    "        fig_optimal.add_trace(go.Scattergeo(\n",
    "            lon=city_data['lng'].values,\n",
    "            lat=city_data['lat'].values,\n",
    "            mode='markers+text',\n",
    "            marker=dict(size=10, color=marker),\n",
    "            text=city,\n",
    "            textposition=text_position,\n",
    "            textfont=dict(color=text_cities),\n",
    "            name=city,\n",
    "            showlegend=False  # Hide city names from legend\n",
    "        ))\n",
    "\n",
    "# Change line to a different color for each leg of the route\n",
    "colors = px.colors.qualitative.Plotly\n",
    "\n",
    "# Add the lines between the cities\n",
    "for i in range(len(optimal_route) - 1):\n",
    "    city_data_1 = df[df['city'] == optimal_route[i]]\n",
    "    city_data_2 = df[df['city'] == optimal_route[i + 1]]\n",
    "    if not city_data_1.empty and not city_data_2.empty:\n",
    "        fig_optimal.add_trace(go.Scattergeo(\n",
    "            lon=[city_data_1['lng'].values[0], city_data_2['lng'].values[0]],\n",
    "            lat=[city_data_1['lat'].values[0], city_data_2['lat'].values[0]],\n",
    "            mode='lines',\n",
    "            line=dict(width=2, color=colors[i % len(colors)]),\n",
    "            name=f'Leg {i + 1}',\n",
    "            showlegend=True  # Show only leg names in legend\n",
    "        ))\n",
    "\n",
    "# Update the layout\n",
    "fig_optimal.update_layout(\n",
    "    title={\n",
    "        'text': 'Optimal Route',\n",
    "        'y': 0.85,  # Move the title to just above the map\n",
    "        'x': 0.5,  # Center the title\n",
    "        'xanchor': 'center',\n",
    "        'yanchor': 'top'\n",
    "    },\n",
    "    showlegend=True,\n",
    "    legend=dict(\n",
    "        y=0.5,  # Position the legend midway down the plot\n",
    "        yanchor=\"middle\"\n",
    "    ),\n",
    "    geo=dict(\n",
    "        scope='north america',  # restrict the map to the USA\n",
    "        showland=True,\n",
    "        showcountries=True,\n",
    "        showocean=True,\n",
    "        oceancolor=ocean,\n",
    "        landcolor=land,\n",
    "        countrywidth=0.5,\n",
    "        subunitwidth=0.5,\n",
    "        showlakes=True,\n",
    "        lakecolor=lake,\n",
    "        showsubunits=True,\n",
    "        showrivers=True,\n",
    "        rivercolor=river,\n",
    "    ),\n",
    "    width=width,  # make the map larger\n",
    "    height=height,  # make the map larger\n",
    "    margin=dict(l=10, r=10, t=40, b=10)  # increase top margin for title\n",
    ")\n",
    "\n",
    "# Restrict map to the US\n",
    "fig_optimal.update_geos(lataxis_range=[25, 50], lonaxis_range=[-125, -65])\n",
    "\n",
    "# Add label for distance of route\n",
    "fig_optimal.add_annotation(\n",
    "    x=0.5,\n",
    "    y=0.1,\n",
    "    showarrow=False,\n",
    "    text=f'Total Distance: {distance_optimal:.2f} miles',\n",
    "    font=dict(size=20, color=text_distance),\n",
    "    xref='paper',\n",
    "    yref='paper'\n",
    ")\n",
    "\n",
    "# Set background color\n",
    "fig_optimal.update_layout(\n",
    "    plot_bgcolor='rgba(0, 0, 0, 0)',\n",
    "    paper_bgcolor='rgba(0, 0, 0, 0)',\n",
    "    font=dict(color='white')\n",
    ")\n",
    "\n",
    "\n",
    "# Limit ability to scroll across the map\n",
    "fig_optimal.update_layout(dragmode=False)\n",
    "\n",
    "# Show the map\n",
    "fig_optimal.show()"
   ]
  },
  {
   "cell_type": "code",
   "execution_count": null,
   "metadata": {},
   "outputs": [],
   "source": []
  },
  {
   "cell_type": "code",
   "execution_count": null,
   "metadata": {},
   "outputs": [],
   "source": []
  }
 ],
 "metadata": {
  "kernelspec": {
   "display_name": "qtconsole",
   "language": "python",
   "name": "python3"
  },
  "language_info": {
   "codemirror_mode": {
    "name": "ipython",
    "version": 3
   },
   "file_extension": ".py",
   "mimetype": "text/x-python",
   "name": "python",
   "nbconvert_exporter": "python",
   "pygments_lexer": "ipython3",
   "version": "3.11.7"
  },
  "orig_nbformat": 4
 },
 "nbformat": 4,
 "nbformat_minor": 2
}
